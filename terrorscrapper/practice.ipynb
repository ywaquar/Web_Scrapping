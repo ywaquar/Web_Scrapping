{
 "cells": [
  {
   "cell_type": "code",
   "execution_count": 13,
   "metadata": {},
   "outputs": [
    {
     "data": {
      "text/plain": [
       "'a , , b'"
      ]
     },
     "execution_count": 13,
     "metadata": {},
     "output_type": "execute_result"
    }
   ],
   "source": [
    "value = ([\"a \", \", \", \",\" \" b\"])\n",
    "# \", \".join(text.strip(\", \") for text in value)\n",
    "\", \".join([text for text in value if text != \", \"])\n"
   ]
  },
  {
   "cell_type": "code",
   "execution_count": 14,
   "metadata": {},
   "outputs": [
    {
     "data": {
      "text/plain": [
       "'$10 million'"
      ]
     },
     "execution_count": 14,
     "metadata": {},
     "output_type": "execute_result"
    }
   ],
   "source": [
    "s= \"Up to $10 million\"\n",
    "s[6:]"
   ]
  },
  {
   "cell_type": "code",
   "execution_count": 15,
   "metadata": {},
   "outputs": [
    {
     "name": "stdout",
     "output_type": "stream",
     "text": [
      "1963-09-20\n"
     ]
    }
   ],
   "source": [
    "from datetime import datetime\n",
    "\n",
    "# Original date string\n",
    "date_string = 'September 20, 1963'\n",
    "\n",
    "# Parse the date string into a datetime object\n",
    "date_object = datetime.strptime(date_string, '%B %d, %Y')\n",
    "\n",
    "# Convert the datetime object to ISO format\n",
    "iso_date = date_object.date().isoformat()\n",
    "\n",
    "print(iso_date)  # Output: 1963-09-20"
   ]
  },
  {
   "cell_type": "code",
   "execution_count": 16,
   "metadata": {},
   "outputs": [],
   "source": [
    "s = (\"september 20, 1993\")\n",
    "s1 = ('1986')\n",
    "s2 = (\"October 10, 1990; October 11 1990\")\n",
    "s3 = \"null\""
   ]
  },
  {
   "cell_type": "markdown",
   "metadata": {},
   "source": []
  },
  {
   "cell_type": "code",
   "execution_count": 20,
   "metadata": {},
   "outputs": [
    {
     "name": "stdout",
     "output_type": "stream",
     "text": [
      "1993-09-20\n",
      "1986-01-01\n",
      "1990-10-10\n",
      "null\n"
     ]
    }
   ],
   "source": [
    "from datetime import datetime\n",
    "\n",
    "# Function to convert date string to ISO format\n",
    "def convert_to_iso(date_string):\n",
    "    # If date is \"null\", return it as is\n",
    "    if date_string.lower() == \"null\":\n",
    "        return date_string\n",
    "\n",
    "    # Parse the date string\n",
    "    try:\n",
    "        date_object = datetime.strptime(date_string, '%B %d, %Y')\n",
    "    except ValueError:\n",
    "        try:\n",
    "            date_object = datetime.strptime(date_string, '%Y')\n",
    "        except ValueError:\n",
    "            return \"Invalid date format\"\n",
    "\n",
    "    # Convert the datetime object to ISO format\n",
    "    iso_date = date_object.date().isoformat()\n",
    "\n",
    "    return iso_date\n",
    "\n",
    "# Input date strings\n",
    "s = \"September 20, 1993\"\n",
    "s1 = \"1986\"\n",
    "s2 = \"October 10, 1990; October 11, 1990\"\n",
    "s3 = \"null\"\n",
    "\n",
    "# Convert each date string to ISO format\n",
    "iso_s = convert_to_iso(s)\n",
    "iso_s1 = convert_to_iso(s1)\n",
    "iso_s2 = convert_to_iso(s2.split(\";\")[0])\n",
    "iso_s3 = convert_to_iso(s3)\n",
    "\n",
    "# Print the results\n",
    "print(iso_s)   # Output: 1993-09-20\n",
    "print(iso_s1)  # Output: 1986\n",
    "print(iso_s2)  # Output: 1990-10-10\n",
    "print(iso_s3)  # Output: null"
   ]
  },
  {
   "cell_type": "code",
   "execution_count": 1,
   "metadata": {},
   "outputs": [],
   "source": [
    "import os"
   ]
  },
  {
   "cell_type": "code",
   "execution_count": 2,
   "metadata": {},
   "outputs": [
    {
     "data": {
      "text/plain": [
       "'c:\\\\Users\\\\waquar\\\\Web_Scrapping\\\\terrorscrapper'"
      ]
     },
     "execution_count": 2,
     "metadata": {},
     "output_type": "execute_result"
    }
   ],
   "source": [
    "os.getcwd()"
   ]
  },
  {
   "cell_type": "code",
   "execution_count": 13,
   "metadata": {},
   "outputs": [
    {
     "data": {
      "text/plain": [
       "'terrorscrapper'"
      ]
     },
     "execution_count": 13,
     "metadata": {},
     "output_type": "execute_result"
    }
   ],
   "source": [
    "os.path.basename(os.getcwd())"
   ]
  },
  {
   "cell_type": "code",
   "execution_count": 15,
   "metadata": {},
   "outputs": [
    {
     "data": {
      "text/plain": [
       "datetime.datetime(2024, 2, 12, 9, 57, 22, 48095)"
      ]
     },
     "execution_count": 15,
     "metadata": {},
     "output_type": "execute_result"
    }
   ],
   "source": [
    "from datetime import datetime\n",
    "datetime.now()"
   ]
  },
  {
   "cell_type": "code",
   "execution_count": 16,
   "metadata": {},
   "outputs": [
    {
     "name": "stdout",
     "output_type": "stream",
     "text": [
      "20240212_095729\n"
     ]
    }
   ],
   "source": [
    "from datetime import datetime\n",
    "\n",
    "current_datetime = datetime.now()\n",
    "formatted_datetime = current_datetime.strftime(\"%Y%m%d_%H%M%S\")\n",
    "print(formatted_datetime)\n"
   ]
  },
  {
   "cell_type": "code",
   "execution_count": 18,
   "metadata": {},
   "outputs": [],
   "source": [
    "Spider_Name = os.path.basename(os.getcwd())\n",
    "current_datetime = datetime.now()\n",
    "formatted_datetime = current_datetime.strftime(\"%Y%m%d_%H%M%S\")\n",
    "outfilefileName = \"{}_{}\".format(Spider_Name, formatted_datetime)"
   ]
  },
  {
   "cell_type": "code",
   "execution_count": 19,
   "metadata": {},
   "outputs": [
    {
     "data": {
      "text/plain": [
       "'terrorscrapper_20240212_100233'"
      ]
     },
     "execution_count": 19,
     "metadata": {},
     "output_type": "execute_result"
    }
   ],
   "source": [
    "outfilefileName"
   ]
  },
  {
   "cell_type": "code",
   "execution_count": 20,
   "metadata": {},
   "outputs": [
    {
     "data": {
      "text/plain": [
       "'terrorscrapper_20240212_102824.json'"
      ]
     },
     "execution_count": 20,
     "metadata": {},
     "output_type": "execute_result"
    }
   ],
   "source": [
    "Spider_Name = os.path.basename(os.getcwd())\n",
    "current_datetime = datetime.now()\n",
    "formatted_datetime = current_datetime.strftime(\"%Y%m%d_%H%M%S\")\n",
    "outputfile = \"{}_{}\".format(Spider_Name, formatted_datetime)\n",
    "json_file = outputfile + \".json\"\n",
    "json_file"
   ]
  },
  {
   "cell_type": "code",
   "execution_count": 24,
   "metadata": {},
   "outputs": [
    {
     "name": "stdout",
     "output_type": "stream",
     "text": [
      "c:\\Users\\waquar\\Web_Scrapping\\terrorscrapper\\Output\\terrorscrapper_20240212_110808.json\n",
      "c:\\Users\\waquar\\Web_Scrapping\\terrorscrapper\\Output\\terrorscrapper_20240212_110808.xlsx\n"
     ]
    }
   ],
   "source": [
    "import os\n",
    "from datetime import datetime\n",
    "\n",
    "class SaveFile:\n",
    "    @staticmethod\n",
    "    def generate_output_filename(extension):\n",
    "        parent_dir = os.path.dirname(os.getcwd())\n",
    "        spider_name = os.path.basename(os.getcwd())\n",
    "        current_datetime = datetime.now()\n",
    "        formatted_datetime = current_datetime.strftime(\"%Y%m%d_%H%M%S\")\n",
    "        folder_name = os.path.join(os.getcwd(), \"Output\")\n",
    "        if not os.path.exists(folder_name):\n",
    "            os.makedirs(folder_name)\n",
    "        output_file = os.path.join(folder_name, \"{}_{}{}\".format(spider_name, formatted_datetime, extension))\n",
    "        return output_file\n",
    "\n",
    "    @staticmethod\n",
    "    def json_file():\n",
    "        return SaveFile.generate_output_filename(\".json\")\n",
    "\n",
    "    @staticmethod\n",
    "    def xlsx_file():\n",
    "        return SaveFile.generate_output_filename(\".xlsx\")\n",
    "\n",
    "# Example usage:\n",
    "print(SaveFile.json_file())\n",
    "print(SaveFile.xlsx_file())"
   ]
  },
  {
   "cell_type": "code",
   "execution_count": null,
   "metadata": {},
   "outputs": [],
   "source": []
  }
 ],
 "metadata": {
  "kernelspec": {
   "display_name": "Python 3",
   "language": "python",
   "name": "python3"
  },
  "language_info": {
   "codemirror_mode": {
    "name": "ipython",
    "version": 3
   },
   "file_extension": ".py",
   "mimetype": "text/x-python",
   "name": "python",
   "nbconvert_exporter": "python",
   "pygments_lexer": "ipython3",
   "version": "3.10.0"
  }
 },
 "nbformat": 4,
 "nbformat_minor": 2
}
